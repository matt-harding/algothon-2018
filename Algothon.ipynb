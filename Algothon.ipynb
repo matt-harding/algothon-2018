{
 "cells": [
  {
   "cell_type": "code",
   "execution_count": 9,
   "metadata": {},
   "outputs": [
    {
     "data": {
      "image/png": "[encoded data removed]",
      "text/plain": [
       "<Figure size 432x288 with 1 Axes>"
      ]
     },
     "metadata": {},
     "output_type": "display_data"
    }
   ],
   "source": [
    "import quandl\n",
    "import matplotlib.pyplot as plt\n",
    "from datetime import datetime\n",
    "\n",
    "auth_code = 'LJwucbG_3BCUA9vR7E38'\n",
    "\n",
    "quandl.ApiConfig.api_key = auth_code\n",
    "\n",
    "dates = ['2017-01-01','2017-02-01','2017-03-01','2017-04-01','2017-05-01','2017-06-01','2017-07-01','2017-08-01']\n",
    "datetimes = []\n",
    "follower_count = []\n",
    "\n",
    "for date in dates:\n",
    "    insta_data = quandl.get_table('SMA/INSD', date=date, brand_ticker='LULU')\n",
    "    total_followers = insta_data['followers_count'].sum()\n",
    "    follower_count.append(total_followers)\n",
    "    xx = datetime.strptime(date, '%Y-%m-%d').date()\n",
    "    datetimes.append(xx)\n",
    "    \n",
    "plt.plot(datetimes, follower_count)\n",
    "plt.show()\n",
    "\n"
   ]
  },
  {
   "cell_type": "code",
   "execution_count": null,
   "metadata": {},
   "outputs": [],
   "source": []
  },
  {
   "cell_type": "code",
   "execution_count": null,
   "metadata": {},
   "outputs": [],
   "source": []
  }
 ],
 "metadata": {
  "kernelspec": {
   "display_name": "Python 3",
   "language": "python",
   "name": "python3"
  },
  "language_info": {
   "codemirror_mode": {
    "name": "ipython",
    "version": 3
   },
   "file_extension": ".py",
   "mimetype": "text/x-python",
   "name": "python",
   "nbconvert_exporter": "python",
   "pygments_lexer": "ipython3",
   "version": "3.6.5"
  }
 },
 "nbformat": 4,
 "nbformat_minor": 2
}
